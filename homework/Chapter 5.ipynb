{
 "cells": [
  {
   "cell_type": "markdown",
   "metadata": {},
   "source": [
    "### Obtaining a data set\n",
    "\n",
    "I've put a zipped csv file from Lending Tree containing mortage data on One Drive. You should all have access. You can find it here: https://glgit-my.sharepoint.com/:u:/g/personal/jobelenus_glgroup_com/EUoBwtK-k89KopT44j4DjqsB_N2IPj36kuZUmY7SpDgTwg?e=fgEzC0\n",
    "\n",
    "I've added a column reference here: https://github.com/jobelenus/python-data-analysis-crash-course/blob/master/01-Pandas/reference.md.\n",
    "\n"
   ]
  },
  {
   "cell_type": "markdown",
   "metadata": {},
   "source": [
    "### Analyzing the data\n",
    "\n",
    "*Note: Skip Line 1! Line 2 is the header, so skip that too!*\n",
    "\n",
    "1. Try and group the dataset by \"grade\" (A,B,C,D,F).\n",
    "2. Then see if the highest interest rate in B is greater than the lowest in A, for each grade (e.g. compare a grade with the one above it)"
   ]
  },
  {
   "cell_type": "code",
   "execution_count": 1,
   "metadata": {},
   "outputs": [
    {
     "name": "stderr",
     "output_type": "stream",
     "text": [
      "/usr/local/lib/python3.7/site-packages/IPython/core/interactiveshell.py:3020: DtypeWarning: Columns (0,19,55) have mixed types. Specify dtype option on import or set low_memory=False.\n",
      "  interactivity=interactivity, compiler=compiler, result=result)\n"
     ]
    },
    {
     "name": "stdout",
     "output_type": "stream",
     "text": [
      "DONE\n"
     ]
    }
   ],
   "source": [
    "import pandas as pd\n",
    "\n",
    "def perc_2_float(s):\n",
    "    if s:\n",
    "        return float(s.strip('%'))/100\n",
    "    else:\n",
    "        return None\n",
    "\n",
    "\n",
    "df = pd.read_csv('/Users/jobelenus/Downloads/LoanStats3d.csv', skiprows=1, converters={'int_rate': perc_2_float})\n",
    "print(\"DONE\")"
   ]
  },
  {
   "cell_type": "code",
   "execution_count": 2,
   "metadata": {},
   "outputs": [
    {
     "name": "stdout",
     "output_type": "stream",
     "text": [
      "  grade  int_rate\n",
      "0     C    0.1485\n",
      "3     C    0.1399\n",
      "4     C    0.1199\n",
      "5     C    0.1344\n",
      "6     C    0.1288\n",
      "MAX:  {'C': 0.1499, 'F': 0.2606, 'B': 0.1199, 'E': 0.21989999999999998, 'A': 0.0819, 'D': 0.18489999999999998, 'G': 0.2899, nan: nan}\n",
      "MIN:  {'C': 0.06, 'F': 0.06, 'B': 0.06, 'E': 0.06, 'A': 0.053200000000000004, 'D': 0.06, 'G': 0.258, nan: nan}\n",
      "FAIL, A:0.0819 > B:0.06\n"
     ]
    }
   ],
   "source": [
    "import numpy as np\n",
    "\n",
    "all_grades = df.grade.unique()\n",
    "\n",
    "grades = df[['grade', 'int_rate']].copy()\n",
    "\n",
    "print(grades.loc[grades.grade == 'C'].head())\n",
    "\n",
    "max_int_rate = {}\n",
    "min_int_rate = {}\n",
    "for g in all_grades:\n",
    "    rows = grades.loc[grades.grade == g]\n",
    "    max_int_rate[g] = rows.int_rate.max()\n",
    "    min_int_rate[g] = rows.int_rate.min()\n",
    "\n",
    "print(\"MAX: \", max_int_rate)\n",
    "print(\"MIN: \", min_int_rate)\n",
    "\n",
    "\n",
    "try:\n",
    "    assert max_int_rate['A'] < min_int_rate['B']\n",
    "    print(\"OK!\")\n",
    "except:\n",
    "    print(\"FAIL, A:{} > B:{}\".format(max_int_rate['A'], min_int_rate['B']))\n"
   ]
  },
  {
   "cell_type": "markdown",
   "metadata": {},
   "source": [
    "1. Try and group the data by loan status and term, to determine whether more shorter mortgages are fully paid off than longer ones"
   ]
  },
  {
   "cell_type": "code",
   "execution_count": 3,
   "metadata": {},
   "outputs": [
    {
     "name": "stdout",
     "output_type": "stream",
     "text": [
      "           loan_status        term  numcount\n",
      "0          Charged Off   36 months     41939\n",
      "1          Charged Off   60 months     32823\n",
      "2              Current   36 months       141\n",
      "3              Current   60 months     45722\n",
      "4              Default   36 months        31\n",
      "5              Default   60 months        92\n",
      "6           Fully Paid   36 months    240752\n",
      "7           Fully Paid   60 months     56820\n",
      "8      In Grace Period   36 months        25\n",
      "9      In Grace Period   60 months       608\n",
      "10   Late (16-30 days)   36 months        27\n",
      "11   Late (16-30 days)   60 months       387\n",
      "12  Late (31-120 days)   36 months       258\n",
      "13  Late (31-120 days)   60 months      1470\n",
      "  loan_status        term  numcount\n",
      "6  Fully Paid   36 months    240752\n",
      "  loan_status        term  numcount\n",
      "7  Fully Paid   60 months     56820\n",
      "More 36mos loands are paid off than 60mos loans:  True\n"
     ]
    }
   ],
   "source": [
    "next_group = df[['loan_status', 'term']]\n",
    "\n",
    "next_group = next_group.groupby(['loan_status', 'term']).size().reset_index()\n",
    "next_group.columns = ['loan_status', 'term', 'numcount']\n",
    "print(next_group)\n",
    "\n",
    "short_paid = next_group.loc[next_group.term == ' 36 months']  # there is an extra space here, that is evil!\n",
    "short_paid = short_paid.loc[short_paid.loan_status == 'Fully Paid']\n",
    "long_paid = next_group.loc[next_group.loan_status == 'Fully Paid']\n",
    "long_paid = long_paid.loc[long_paid.term == ' 60 months']\n",
    "\n",
    "print(short_paid)\n",
    "print(long_paid)\n",
    "print(\"More 36mos loands are paid off than 60mos loans: \", short_paid.numcount.values[0] > long_paid.numcount.values[0])"
   ]
  },
  {
   "cell_type": "markdown",
   "metadata": {},
   "source": [
    "1. Try and select all the A grade mortgages, and add a new column that calculates the total amount of dollars the buyer will owe (loan_amt * int_rate).\n",
    "2. Then add another column that tells you how many years it would take to pay it off if they paid with their entire annual income each year."
   ]
  },
  {
   "cell_type": "code",
   "execution_count": 8,
   "metadata": {},
   "outputs": [
    {
     "data": {
      "text/html": [
       "<div>\n",
       "<style scoped>\n",
       "    .dataframe tbody tr th:only-of-type {\n",
       "        vertical-align: middle;\n",
       "    }\n",
       "\n",
       "    .dataframe tbody tr th {\n",
       "        vertical-align: top;\n",
       "    }\n",
       "\n",
       "    .dataframe thead th {\n",
       "        text-align: right;\n",
       "    }\n",
       "</style>\n",
       "<table border=\"1\" class=\"dataframe\">\n",
       "  <thead>\n",
       "    <tr style=\"text-align: right;\">\n",
       "      <th></th>\n",
       "      <th>loan_amnt</th>\n",
       "      <th>int_rate</th>\n",
       "      <th>annual_inc</th>\n",
       "      <th>total_amt</th>\n",
       "      <th>num_years</th>\n",
       "    </tr>\n",
       "  </thead>\n",
       "  <tbody>\n",
       "    <tr>\n",
       "      <th>11</th>\n",
       "      <td>10000.0</td>\n",
       "      <td>0.0649</td>\n",
       "      <td>85000.0</td>\n",
       "      <td>64900.0</td>\n",
       "      <td>0.763529</td>\n",
       "    </tr>\n",
       "    <tr>\n",
       "      <th>14</th>\n",
       "      <td>28000.0</td>\n",
       "      <td>0.0649</td>\n",
       "      <td>92000.0</td>\n",
       "      <td>181720.0</td>\n",
       "      <td>1.975217</td>\n",
       "    </tr>\n",
       "    <tr>\n",
       "      <th>18</th>\n",
       "      <td>9600.0</td>\n",
       "      <td>0.0749</td>\n",
       "      <td>60000.0</td>\n",
       "      <td>71904.0</td>\n",
       "      <td>1.198400</td>\n",
       "    </tr>\n",
       "    <tr>\n",
       "      <th>21</th>\n",
       "      <td>25000.0</td>\n",
       "      <td>0.0749</td>\n",
       "      <td>109000.0</td>\n",
       "      <td>187250.0</td>\n",
       "      <td>1.717890</td>\n",
       "    </tr>\n",
       "    <tr>\n",
       "      <th>30</th>\n",
       "      <td>6000.0</td>\n",
       "      <td>0.0791</td>\n",
       "      <td>105000.0</td>\n",
       "      <td>47460.0</td>\n",
       "      <td>0.452000</td>\n",
       "    </tr>\n",
       "  </tbody>\n",
       "</table>\n",
       "</div>"
      ],
      "text/plain": [
       "    loan_amnt  int_rate  annual_inc  total_amt  num_years\n",
       "11    10000.0    0.0649     85000.0    64900.0   0.763529\n",
       "14    28000.0    0.0649     92000.0   181720.0   1.975217\n",
       "18     9600.0    0.0749     60000.0    71904.0   1.198400\n",
       "21    25000.0    0.0749    109000.0   187250.0   1.717890\n",
       "30     6000.0    0.0791    105000.0    47460.0   0.452000"
      ]
     },
     "execution_count": 8,
     "metadata": {},
     "output_type": "execute_result"
    }
   ],
   "source": [
    "grade_a = df.loc[df.grade == 'A']\n",
    "grade_a = grade_a[['loan_amnt', 'int_rate', 'annual_inc']]\n",
    "\n",
    "grade_a['total_amt'] = grade_a['loan_amnt'] * (grade_a['int_rate'] * 100)\n",
    "grade_a['num_years'] = grade_a['total_amt'] / grade_a['annual_inc']\n",
    "grade_a.head()"
   ]
  },
  {
   "cell_type": "code",
   "execution_count": null,
   "metadata": {},
   "outputs": [],
   "source": []
  }
 ],
 "metadata": {
  "kernelspec": {
   "display_name": "Python 3",
   "language": "python",
   "name": "python3"
  },
  "language_info": {
   "codemirror_mode": {
    "name": "ipython",
    "version": 3
   },
   "file_extension": ".py",
   "mimetype": "text/x-python",
   "name": "python",
   "nbconvert_exporter": "python",
   "pygments_lexer": "ipython3",
   "version": "3.7.1"
  }
 },
 "nbformat": 4,
 "nbformat_minor": 2
}
