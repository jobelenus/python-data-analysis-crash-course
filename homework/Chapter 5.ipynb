{
 "cells": [
  {
   "cell_type": "markdown",
   "metadata": {},
   "source": [
    "### Obtaining a data set\n",
    "\n",
    "I've put a zipped csv file from Lending Tree containing mortage data on One Drive. You should all have access. You can find it here: https://glgit-my.sharepoint.com/:u:/g/personal/jobelenus_glgroup_com/EUoBwtK-k89KopT44j4DjqsB_N2IPj36kuZUmY7SpDgTwg?e=fgEzC0\n",
    "\n",
    "I've added a column reference here: https://github.com/jobelenus/python-data-analysis-crash-course/blob/master/01-Pandas/reference.md.\n",
    "\n"
   ]
  },
  {
   "cell_type": "markdown",
   "metadata": {},
   "source": [
    "### Analyzing the data\n",
    "\n",
    "*Note: Skip Line 1! Line 2 is the header, so skip that too!*\n",
    "\n",
    "1. Try and group the dataset by \"grade\" (A,B,C,D,F).\n",
    "2. Then see if the highest interest rate in B is greater than the lowest in A, for each grade (e.g. compare a grade with the one above it)"
   ]
  },
  {
   "cell_type": "code",
   "execution_count": 85,
   "metadata": {},
   "outputs": [
    {
     "name": "stdout",
     "output_type": "stream",
     "text": [
      "DONE\n"
     ]
    }
   ],
   "source": [
    "import pandas as pd\n",
    "\n",
    "def perc_2_float(s):\n",
    "    if s:\n",
    "        return float(s.strip('%'))/100\n",
    "    else:\n",
    "        return None\n",
    "\n",
    "\n",
    "df = pd.read_csv('/Users/jobelenus/Downloads/LoanStats3d.csv', skiprows=1, converters={'int_rate': perc_2_float})\n",
    "print(\"DONE\")"
   ]
  },
  {
   "cell_type": "code",
   "execution_count": 99,
   "metadata": {},
   "outputs": [
    {
     "name": "stdout",
     "output_type": "stream",
     "text": [
      "  grade  int_rate\n",
      "0     C    0.1485\n",
      "1     F    0.2245\n",
      "2     B    0.1078\n",
      "3     C    0.1399\n",
      "4     C    0.1199\n",
      "  grade  int_rate\n",
      "0     C    0.1485\n",
      "3     C    0.1399\n",
      "4     C    0.1199\n",
      "5     C    0.1344\n",
      "6     C    0.1288\n",
      "MAX:  {'C': 0.1499, 'F': 0.2606, 'B': 0.1199, 'E': 0.21989999999999998, 'A': 0.0819, 'D': 0.18489999999999998, 'G': 0.2899, nan: nan}\n",
      "MIN:  {'C': 0.06, 'F': 0.06, 'B': 0.06, 'E': 0.06, 'A': 0.053200000000000004, 'D': 0.06, 'G': 0.258, nan: nan}\n",
      "FAIL, A:0.0819 > B:0.06\n"
     ]
    }
   ],
   "source": [
    "import numpy as np\n",
    "\n",
    "all_grades = df.grade.unique()\n",
    "\n",
    "grades = df[['grade', 'int_rate']].copy()\n",
    "\n",
    "print(grades.loc[grades.grade == 'C'].head())\n",
    "\n",
    "max_int_rate = {}\n",
    "min_int_rate = {}\n",
    "for g in all_grades:\n",
    "    rows = grades.loc[grades.grade == g]\n",
    "    max_int_rate[g] = rows.int_rate.max()\n",
    "    min_int_rate[g] = rows.int_rate.min()\n",
    "\n",
    "print(\"MAX: \", max_int_rate)\n",
    "print(\"MIN: \", min_int_rate)\n",
    "\n",
    "\n",
    "try:\n",
    "    assert max_int_rate['A'] < min_int_rate['B']\n",
    "    print(\"OK!\")\n",
    "except:\n",
    "    print(\"FAIL, A:{} > B:{}\".format(max_int_rate['A'], min_int_rate['B']))\n"
   ]
  },
  {
   "cell_type": "markdown",
   "metadata": {},
   "source": [
    "1. Try and group the data by loan status and term, to determine whether more shorter mortgages are fully paid off than longer ones"
   ]
  },
  {
   "cell_type": "code",
   "execution_count": null,
   "metadata": {},
   "outputs": [],
   "source": []
  },
  {
   "cell_type": "markdown",
   "metadata": {},
   "source": [
    "1. Try and select all the A grade mortgages, and add a new column that calculates the total amount of dollars the buyer will owe (loan_amt * int_rate).\n",
    "2. Then add another column that tells you how many years it would take to pay it off if they paid with their entire annual income each year."
   ]
  },
  {
   "cell_type": "code",
   "execution_count": null,
   "metadata": {},
   "outputs": [],
   "source": []
  }
 ],
 "metadata": {
  "kernelspec": {
   "display_name": "Python 3",
   "language": "python",
   "name": "python3"
  },
  "language_info": {
   "codemirror_mode": {
    "name": "ipython",
    "version": 3
   },
   "file_extension": ".py",
   "mimetype": "text/x-python",
   "name": "python",
   "nbconvert_exporter": "python",
   "pygments_lexer": "ipython3",
   "version": "3.7.1"
  }
 },
 "nbformat": 4,
 "nbformat_minor": 2
}
