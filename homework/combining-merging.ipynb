{
 "cells": [
  {
   "cell_type": "markdown",
   "metadata": {},
   "source": [
    "### Working with Financial Data\n",
    "\n",
    "Publicly traded companies are classified into one of 11 industry sectors, called GICS (Global Industry Classification Standard). Investors use these classes to design and construct portfolios, compare companies, evaluate industries, and isolate regional from global trends.\n",
    "\n",
    "There are 11 GICS sectors\n",
    "\n",
    "* Communication services\n",
    "* Consumer discretionary\n",
    "* Consumer staples\n",
    "* Energy\n",
    "* Financials\n",
    "* Health care\n",
    "* Industrials\n",
    "* Information technology\n",
    "* Materials\n",
    "* Real estate\n",
    "* Utilities\n",
    "\n",
    "\n",
    "In this notebook we'll work with financial data, grouped by sector, to analyze different trends in companies and sectors listed on the S&P 500. \n",
    "\n",
    "\n",
    "Begin by loading the GICS sector mappings. They've been provided to you in a file called `gics.csv`\n"
   ]
  },
  {
   "cell_type": "code",
   "execution_count": 1,
   "metadata": {},
   "outputs": [
    {
     "name": "stdout",
     "output_type": "stream",
     "text": [
      "    Code                    Name              name_lower\n",
      "0     50  Communication services  communication services\n",
      "1     25  Consumer discretionary  consumer discretionary\n",
      "2     30        Consumer staples        consumer staples\n",
      "3     10                  Energy                  energy\n",
      "4     40              Financials              financials\n",
      "5     35             Health care             health care\n",
      "6     20             Industrials             industrials\n",
      "7     45  Information technology  information technology\n",
      "8     15               Materials               materials\n",
      "9     60             Real estate             real estate\n",
      "10    55               Utilities               utilities\n"
     ]
    }
   ],
   "source": [
    "import pandas as pd\n",
    "gicsDF = pd.read_csv('../08-Combining-Merging/gics.csv')\n",
    "gicsDF['name_lower']= gicsDF['Name'].str.lower()\n",
    "print(gicsDF)"
   ]
  },
  {
   "cell_type": "markdown",
   "metadata": {},
   "source": [
    "Load the S&P 500 sector mappings and take a look at the data. The file is called `sp500-sector.csv`"
   ]
  },
  {
   "cell_type": "code",
   "execution_count": 2,
   "metadata": {},
   "outputs": [
    {
     "name": "stdout",
     "output_type": "stream",
     "text": [
      "  Symbol                 Name                  Sector            sector_lower\n",
      "0    MMM           3M Company             Industrials             industrials\n",
      "1    AOS      A.O. Smith Corp             Industrials             industrials\n",
      "2    ABT  Abbott Laboratories             Health Care             health care\n",
      "3   ABBV          AbbVie Inc.             Health Care             health care\n",
      "4    ACN        Accenture plc  Information Technology  information technology\n"
     ]
    }
   ],
   "source": [
    "snpDF = pd.read_csv('../08-Combining-Merging/sp500-sector.csv')\n",
    "snpDF['sector_lower']= snpDF['Sector'].str.lower()\n",
    "print(snpDF.head())"
   ]
  },
  {
   "cell_type": "markdown",
   "metadata": {},
   "source": [
    "Create a dataframe that has the S&P 500 stock symbols with the appropriate sector number. For example, `3M`, symbol `MMM` is in `industrials` which corresponds to sector 20."
   ]
  },
  {
   "cell_type": "code",
   "execution_count": 3,
   "metadata": {},
   "outputs": [
    {
     "name": "stdout",
     "output_type": "stream",
     "text": [
      "  Symbol                 Name                  Sector  Code\n",
      "0    MMM           3M Company             Industrials  20.0\n",
      "1    AOS      A.O. Smith Corp             Industrials  20.0\n",
      "2    ABT  Abbott Laboratories             Health Care  35.0\n",
      "3   ABBV          AbbVie Inc.             Health Care  35.0\n",
      "4    ACN        Accenture plc  Information Technology  45.0\n"
     ]
    }
   ],
   "source": [
    "combDF = pd.merge(snpDF, gicsDF, left_on=\"sector_lower\", right_on=\"name_lower\", how=\"left\")\n",
    "combDF.columns.values[1] = 'Name'\n",
    "combDF.drop('Name_y', axis=1, inplace=True)\n",
    "combDF.drop('name_lower', axis=1, inplace=True)\n",
    "combDF.drop('sector_lower', axis=1, inplace=True)\n",
    "print(combDF.head())"
   ]
  },
  {
   "cell_type": "markdown",
   "metadata": {},
   "source": [
    "Working with strings in pandas can be much slower than working with integers and floats. Securities are typically represented by a security id, a numerical representation of the security. Ids have been provided in the file `sp500-ids.csv`. Load these into a dataframe and then generate a new dataframe that contains the columns `security_id` and `sector`."
   ]
  },
  {
   "cell_type": "code",
   "execution_count": 4,
   "metadata": {},
   "outputs": [
    {
     "name": "stdout",
     "output_type": "stream",
     "text": [
      "  Symbol  Security_id\n",
      "0    MMM            1\n",
      "1    AOS            2\n",
      "2    ABT            3\n",
      "3   ABBV            4\n",
      "4    ACN            5\n",
      "------\n",
      "  Symbol  Security_id                  Sector\n",
      "0    MMM            1             Industrials\n",
      "1    AOS            2             Industrials\n",
      "2    ABT            3             Health Care\n",
      "3   ABBV            4             Health Care\n",
      "4    ACN            5  Information Technology\n"
     ]
    }
   ],
   "source": [
    "idsDF = pd.read_csv('../08-Combining-Merging/sp500-ids.csv')\n",
    "print(idsDF.head())\n",
    "print('------')\n",
    "secDF = pd.merge(idsDF, combDF[['Symbol', 'Sector']])\n",
    "print(secDF.head())"
   ]
  },
  {
   "cell_type": "markdown",
   "metadata": {},
   "source": [
    "Load the file `sp500-5yr.csv` into a dataframe. This file contains 5 years worth of historical prices for securities listed on the S&P 500. Convert the symbols into security ids, and bring in the sector colums as well."
   ]
  },
  {
   "cell_type": "code",
   "execution_count": 5,
   "metadata": {},
   "outputs": [
    {
     "name": "stdout",
     "output_type": "stream",
     "text": [
      "        date   open   high    low  close    volume symbol\n",
      "0 2013-02-08  15.07  15.12  14.63  14.75   8407500    AAL\n",
      "1 2013-02-11  14.89  15.01  14.26  14.46   8882000    AAL\n",
      "2 2013-02-12  14.45  14.51  14.10  14.27   8126000    AAL\n",
      "3 2013-02-13  14.30  14.94  14.25  14.66  10259500    AAL\n",
      "4 2013-02-14  14.94  14.96  13.16  13.99  31879900    AAL\n",
      "-------\n",
      "        date   open   high    low  close    volume symbol  Security_id  \\\n",
      "0 2013-02-08  15.07  15.12  14.63  14.75   8407500    AAL           33   \n",
      "1 2013-02-11  14.89  15.01  14.26  14.46   8882000    AAL           33   \n",
      "2 2013-02-12  14.45  14.51  14.10  14.27   8126000    AAL           33   \n",
      "3 2013-02-13  14.30  14.94  14.25  14.66  10259500    AAL           33   \n",
      "4 2013-02-14  14.94  14.96  13.16  13.99  31879900    AAL           33   \n",
      "\n",
      "        Sector  \n",
      "0  Industrials  \n",
      "1  Industrials  \n",
      "2  Industrials  \n",
      "3  Industrials  \n",
      "4  Industrials  \n",
      "             date   open   high    low  close   volume symbol  Security_id  \\\n",
      "610222 2018-02-01  76.84  78.27  76.69  77.82  2982259    ZTS          505   \n",
      "610223 2018-02-02  77.53  78.12  76.73  76.78  2595187    ZTS          505   \n",
      "610224 2018-02-05  76.64  76.92  73.18  73.83  2962031    ZTS          505   \n",
      "610225 2018-02-06  72.74  74.56  72.13  73.27  4924323    ZTS          505   \n",
      "610226 2018-02-07  72.70  75.00  72.69  73.86  4534912    ZTS          505   \n",
      "\n",
      "             Sector  \n",
      "610222  Health Care  \n",
      "610223  Health Care  \n",
      "610224  Health Care  \n",
      "610225  Health Care  \n",
      "610226  Health Care  \n"
     ]
    }
   ],
   "source": [
    "import datetime\n",
    "dateparse = lambda x: pd.datetime.strptime(x, '%Y-%m-%d')\n",
    "\n",
    "yrDF = pd.read_csv('../08-Combining-Merging/sp500-5yr.csv', parse_dates=['date'], date_parser=dateparse)\n",
    "print(yrDF.head())\n",
    "print('-------')\n",
    "secYrDF = pd.merge(yrDF, secDF, left_on='symbol', right_on='Symbol')\n",
    "secYrDF.drop('Symbol', axis=1, inplace=True)\n",
    "print(secYrDF.head())\n",
    "print(secYrDF.tail())"
   ]
  },
  {
   "cell_type": "markdown",
   "metadata": {},
   "source": [
    "Determine which sectors had the best performance for the past year, past three years and past five years. Note the start and end dates on the dataset."
   ]
  },
  {
   "cell_type": "code",
   "execution_count": 6,
   "metadata": {},
   "outputs": [
    {
     "name": "stdout",
     "output_type": "stream",
     "text": [
      "1yr:                                 perf\n",
      "Sector                              \n",
      "Information Technology  2.404607e+09\n",
      "3yr:                                 perf\n",
      "Sector                              \n",
      "Information Technology  5.039513e+08\n",
      "5yr:                                 perf\n",
      "Sector                              \n",
      "Information Technology  1.959932e+09\n"
     ]
    }
   ],
   "source": [
    "secYrDF['perf'] = (secYrDF['open'] - secYrDF['close']) * secYrDF['volume']\n",
    "\n",
    "import datetime\n",
    "newest_date = secYrDF.date.max()\n",
    "yearago = newest_date - datetime.timedelta(days=365)\n",
    "threeago = newest_date - datetime.timedelta(days=365*3)\n",
    "fiveago = newest_date - datetime.timedelta(days=365*5)\n",
    "\n",
    "oneDF = secYrDF.loc[secYrDF.date >= yearago]\n",
    "threeDF = secYrDF.loc[secYrDF.date >= threeago]\n",
    "fiveDF = secYrDF.loc[secYrDF.date >= fiveago]\n",
    "\n",
    "oneSec = oneDF[['Sector', 'perf']].set_index('Sector').groupby('Sector').sum()\n",
    "threeSec = threeDF[['Sector', 'perf']].set_index('Sector').groupby('Sector').sum()\n",
    "fiveSec = fiveDF[['Sector', 'perf']].set_index('Sector').groupby('Sector').sum()\n",
    "\n",
    "print(\"1yr:\", oneSec.loc[oneSec.idxmax()])\n",
    "print(\"3yr:\", threeSec.loc[oneSec.idxmax()])\n",
    "print(\"5yr:\", fiveSec.loc[oneSec.idxmax()])"
   ]
  },
  {
   "cell_type": "markdown",
   "metadata": {},
   "source": [
    "For each sector, determine the top performer and the bottom performer for the 1 year, 3 year, and 5 year windows."
   ]
  },
  {
   "cell_type": "code",
   "execution_count": 7,
   "metadata": {},
   "outputs": [
    {
     "name": "stdout",
     "output_type": "stream",
     "text": [
      "Best:                 perf\n",
      "symbol              \n",
      "GE      1.328622e+09\n",
      "Worst:                 perf\n",
      "symbol              \n",
      "NFLX   -8.140149e+08\n"
     ]
    }
   ],
   "source": [
    "oneSymbol = oneDF[['symbol', 'perf']].set_index('symbol').groupby('symbol').sum()\n",
    "print(\"Best:\", oneSymbol.loc[oneSymbol.idxmax()])\n",
    "print(\"Worst:\", oneSymbol.loc[oneSymbol.idxmin()])"
   ]
  },
  {
   "cell_type": "markdown",
   "metadata": {},
   "source": [
    "Imagine two portfolios, one comprised of the securites represented by even ids and one by odd ids. Which portfolio has had the best performance over the 1,3 and 5 year time windows?\n"
   ]
  },
  {
   "cell_type": "code",
   "execution_count": null,
   "metadata": {},
   "outputs": [],
   "source": []
  },
  {
   "cell_type": "markdown",
   "metadata": {},
   "source": [
    "Combine these two portfolios into a single portfolio. What was the overall performance of the SP500 for the same time periods?\n"
   ]
  },
  {
   "cell_type": "code",
   "execution_count": null,
   "metadata": {},
   "outputs": [],
   "source": []
  }
 ],
 "metadata": {
  "kernelspec": {
   "display_name": "Python 3",
   "language": "python",
   "name": "python3"
  },
  "language_info": {
   "codemirror_mode": {
    "name": "ipython",
    "version": 3
   },
   "file_extension": ".py",
   "mimetype": "text/x-python",
   "name": "python",
   "nbconvert_exporter": "python",
   "pygments_lexer": "ipython3",
   "version": "3.7.1"
  }
 },
 "nbformat": 4,
 "nbformat_minor": 2
}
