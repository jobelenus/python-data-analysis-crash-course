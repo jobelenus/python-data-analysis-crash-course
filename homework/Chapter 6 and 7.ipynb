{
 "cells": [
  {
   "cell_type": "markdown",
   "metadata": {},
   "source": [
    "# Chapter 6 and 7 - Loading data, cleaning and preparation\n",
    "\n",
    "This notebook is light on the various data loading described in Ch 6, because most of those formats described are all just loaded with various pandas `pd.read_...()` helpers that do all the heavy lifting.  Thats great if you have tabular data.  I am instead going to feed you with a netCDF4 file, which takes a little bit more work to load, but only a few lines.  Ping me if you get stuck.\n",
    "\n",
    "Grab the data here:\n",
    "\n",
    "https://data.giss.nasa.gov/pub/gistemp/gistemp250_GHCNv4.nc.gz\n",
    "\n",
    "I'm not sure if the various options for opening that file (described below) handle the compression, so you probably want to `gzip -d` that file.   This dataset has global temperatures, averaged monthly within 2x2 degree boxes over land (the grid points over the oceans are filled with NaN). The data spans from January 1880 through January 2019, though spatial coverage is sparse at the earlier dates and gets much better with time.\n",
    "\n",
    "The imports below should cover the various ways to complete the notebook.  \n",
    "\n",
    "##### Reference\n",
    "\n",
    "GISTEMP Team, 2019: GISS Surface Temperature Analysis (GISTEMP v4). NASA Goddard Institute for Space Studies. Dataset accessed 2019-03-06 at https://data.giss.nasa.gov/gistemp/.\n",
    "\n",
    "Hansen, J., R. Ruedy, M. Sato, and K. Lo, 2010: Global surface temperature change, Rev. Geophys., 48, RG4004, doi:10.1029/2010RG000345."
   ]
  },
  {
   "cell_type": "code",
   "execution_count": 1,
   "metadata": {},
   "outputs": [],
   "source": [
    "# You may not need all of these, but you shouldn't need more. YOLO\n",
    "import pandas as pd\n",
    "import netCDF4 as nc4\n",
    "import xarray as xr\n",
    "import seaborn as sns\n",
    "import numpy as np\n",
    "sns.set()\n",
    "from pandas.plotting import register_matplotlib_converters\n",
    "register_matplotlib_converters()"
   ]
  },
  {
   "cell_type": "code",
   "execution_count": 2,
   "metadata": {},
   "outputs": [],
   "source": [
    "datafile_nc4 =  \"/Users/jobelenus/playground/pythondata/gistemp250_GHCNv4.nc\""
   ]
  },
  {
   "cell_type": "markdown",
   "metadata": {},
   "source": [
    "### Working with a netCDF4 data file\n",
    "\n",
    "There are a few ways to go about this, as in anything python related.  Pandas does not speak netCDF by default, but there are some easy ways to get this data into a dataframe.\n",
    "\n",
    "1. Load the data with the netCDF4 package and build a dataframe with the variables you are interested in\n",
    "2. Load the data with xarray.open_dataset and convert that to a dataframe with to_dataframe(). \n",
    "\n",
    "There is more in this file than we really need, so if you can get to this state, you win:\n",
    "\n",
    "```\n",
    ">>> print(df.columns)\n",
    "\n",
    "Index(['lat', 'lon', 'time', 'tempanomaly'], dtype='object')\n",
    "```"
   ]
  },
  {
   "cell_type": "code",
   "execution_count": 3,
   "metadata": {},
   "outputs": [
    {
     "name": "stdout",
     "output_type": "stream",
     "text": [
      "Index(['lat', 'lon', 'time', 'tempanomaly'], dtype='object')\n",
      "    lat    lon       time  tempanomaly\n",
      "0 -89.0 -179.0 1880-01-15          NaN\n",
      "1 -89.0 -179.0 1880-02-15          NaN\n",
      "2 -89.0 -179.0 1880-03-15          NaN\n",
      "3 -89.0 -179.0 1880-04-15          NaN\n",
      "4 -89.0 -179.0 1880-05-15          NaN\n"
     ]
    }
   ],
   "source": [
    "ds = xr.open_dataset(datafile_nc4)\n",
    "df = ds.to_dataframe().reset_index()[[\"lat\", \"lon\", \"time\", \"tempanomaly\"]]\n",
    "print(df.columns)\n",
    "print(df.head())"
   ]
  },
  {
   "cell_type": "code",
   "execution_count": null,
   "metadata": {},
   "outputs": [],
   "source": []
  },
  {
   "cell_type": "markdown",
   "metadata": {},
   "source": [
    "The lat and lon variables give global coverage every 2 degrees (only odd value of lat and lon) of temperature anomaly (the deviation from the climate average).  Produce a timeseries (data or plot) of the temperature anomaly near Boston, MA. (lat,lon = 43.0, -71.0)"
   ]
  },
  {
   "cell_type": "code",
   "execution_count": 4,
   "metadata": {},
   "outputs": [
    {
     "name": "stdout",
     "output_type": "stream",
     "text": [
      "           lat   lon       time  tempanomaly\n",
      "39835692  43.0 -71.0 1880-01-15         3.60\n",
      "39835693  43.0 -71.0 1880-02-15         1.22\n",
      "39835694  43.0 -71.0 1880-03-15        -2.04\n",
      "39835695  43.0 -71.0 1880-04-15        -0.47\n",
      "39835696  43.0 -71.0 1880-05-15         2.94\n",
      "Any NaNs? False\n"
     ]
    }
   ],
   "source": [
    "mask_lat = df.lat == 43.0\n",
    "mask_lon = df.lon == -71.0\n",
    "boston = df.loc[mask_lat & mask_lon]\n",
    "print(boston.head())\n",
    "anynans = boston.tempanomaly.isnull().any()\n",
    "print(\"Any NaNs? {}\".format(anynans))"
   ]
  },
  {
   "cell_type": "markdown",
   "metadata": {},
   "source": [
    "Are there any NaN or missing values in this data?  \n",
    "\n",
    "Now take a look at the same data at the location (lat,lon = 1.0, -87.0).  Does this data have missing values or NaN?  Are they appropriate? "
   ]
  },
  {
   "cell_type": "code",
   "execution_count": 5,
   "metadata": {},
   "outputs": [
    {
     "name": "stdout",
     "output_type": "stream",
     "text": [
      "          lat   lon       time  tempanomaly\n",
      "27191348  1.0 -87.0 1880-01-15          NaN\n",
      "27191349  1.0 -87.0 1880-02-15          NaN\n",
      "27191350  1.0 -87.0 1880-03-15          NaN\n",
      "27191351  1.0 -87.0 1880-04-15          NaN\n",
      "27191352  1.0 -87.0 1880-05-15          NaN\n",
      "Any NaNs? True\n"
     ]
    }
   ],
   "source": [
    "mask_lat = df.lat == 1.0\n",
    "mask_lon = df.lon == -87.0\n",
    "pacific = df.loc[mask_lat & mask_lon]\n",
    "print(pacific.head())\n",
    "anynans = pacific.tempanomaly.isnull().any()\n",
    "print(\"Any NaNs? {}\".format(anynans))"
   ]
  },
  {
   "cell_type": "markdown",
   "metadata": {},
   "source": [
    "Now let's focus on a slice of this data in time.  Pick a date in 2018 and all the temperature anomalies and locations associated with that date.  This data is going to come out of pandas, most likely, looking like this:\n",
    "\n",
    "```\n",
    "           lat    lon  tempanomaly\n",
    "1666     -89.0 -179.0         0.42\n",
    "3335     -89.0 -179.0         0.42\n",
    "5004     -89.0 -177.0         0.42\n",
    "...\n",
    "[32400 rows x 3 columns]\n",
    "```\n",
    "\n",
    "(your data will be different if you chose a different date)\n",
    "\n",
    "Find the average of the warmest and coolest 10% of the data for the date you chose."
   ]
  },
  {
   "cell_type": "code",
   "execution_count": 6,
   "metadata": {},
   "outputs": [
    {
     "name": "stdout",
     "output_type": "stream",
     "text": [
      "                lat           lon   tempanomaly\n",
      "count  32400.000000  32400.000000  14206.000000\n",
      "mean       0.000000      0.000000      0.670704\n",
      "std       51.959118    103.923048      1.571763\n",
      "min      -89.000000   -179.000000     -2.950000\n",
      "10%      -71.200000   -143.200000     -2.120000\n",
      "50%        0.000000      0.000000      0.820000\n",
      "90%       71.200000    143.200000      2.520000\n",
      "max       89.000000    179.000000      7.380000\n",
      "       lat    lon       time  tempanomaly\n",
      "1568 -89.0 -179.0 2010-09-15        -2.12\n",
      "3237 -89.0 -179.0 2010-09-15        -2.12\n",
      "4906 -89.0 -177.0 2010-09-15        -2.12\n",
      "6575 -89.0 -177.0 2010-09-15        -2.12\n",
      "8244 -89.0 -175.0 2010-09-15        -2.12\n",
      "---------\n",
      "Avg 10%: -2.1403605937957764\n",
      "---------\n",
      "---------\n",
      "          lat    lon       time  tempanomaly\n",
      "2478364 -81.0 -135.0 2010-09-15         3.03\n",
      "2480033 -81.0 -135.0 2010-09-15         3.03\n",
      "2481702 -81.0 -133.0 2010-09-15         3.28\n",
      "2483371 -81.0 -133.0 2010-09-15         3.28\n",
      "2485040 -81.0 -131.0 2010-09-15         3.28\n",
      "Avg 90%: 3.4163291454315186\n"
     ]
    }
   ],
   "source": [
    "sept = df.loc[df.time == '2010-09-15']\n",
    "print(sept.describe(percentiles=[.1, .9]))\n",
    "ten_perc = -2.12\n",
    "ninety_perc = 2.52\n",
    "tenDF = sept.loc[sept.tempanomaly <= ten_perc]\n",
    "print(tenDF.head())\n",
    "print('---------')\n",
    "print(\"Avg 10%: {}\".format(np.average(tenDF.tempanomaly.values)))\n",
    "print('---------')\n",
    "ninetyDF = sept.loc[sept.tempanomaly >= ninety_perc]\n",
    "print('---------')\n",
    "print(ninetyDF.head())\n",
    "print(\"Avg 90%: {}\".format(np.average(ninetyDF.tempanomaly.values)))"
   ]
  },
  {
   "cell_type": "markdown",
   "metadata": {},
   "source": [
    "#### BONUS!  (I solved this with stuff that turns out was in CH8, but I'm keeping it in)\n",
    "\n",
    "The last question had data like this:\n",
    "\n",
    "```\n",
    "           lat    lon  tempanomaly\n",
    "1666     -89.0 -179.0         0.42\n",
    "3335     -89.0 -179.0         0.42\n",
    "5004     -89.0 -177.0         0.42\n",
    "...\n",
    "[32400 rows x 3 columns]\n",
    "```\n",
    "\n",
    "I'm going give you some code to plot a heatmap, but first the data needs to be transformed to look like this:\n",
    "\n",
    "```\n",
    "lon    -179.0  -177.0  -175.0  -173.0  -171.0  -169.0  -167.0  -165.0  -163.0  \\\n",
    "lat                                                                             \n",
    " 81.0     NaN     NaN     NaN     NaN     NaN     NaN     NaN     NaN     NaN   \n",
    " 79.0     NaN     NaN     NaN     NaN     NaN     NaN     NaN     NaN     NaN   \n",
    " 77.0     NaN     NaN     NaN     NaN     NaN     NaN     NaN     NaN     NaN   \n",
    " ...\n",
    "[86 rows x 180 columns]\n",
    "```\n",
    "\n",
    "Go for it!"
   ]
  },
  {
   "cell_type": "code",
   "execution_count": 8,
   "metadata": {},
   "outputs": [
    {
     "name": "stdout",
     "output_type": "stream",
     "text": [
      "lon    -179.0  -177.0  -175.0  -173.0  -171.0  -169.0  -167.0  -165.0  -163.0  \\\n",
      "lat                                                                             \n",
      "-89.0   -2.12   -2.12   -2.12   -2.12   -2.12   -2.12   -2.12   -2.12   -2.12   \n",
      "-87.0   -2.12   -2.12   -2.12   -2.12   -2.12   -2.12   -2.12   -2.12   -2.12   \n",
      "-85.0   -2.12   -2.12   -2.12   -2.12   -2.12   -2.12   -2.12   -2.12   -2.12   \n",
      "-83.0   -2.12   -2.12   -2.12   -2.12   -2.12   -2.12   -2.12   -2.12   -2.12   \n",
      "-81.0   -2.12   -2.12   -2.12   -2.12   -2.12   -2.12   -2.12   -2.12   -2.12   \n",
      "\n",
      "lon    -161.0  ...   161.0   163.0   165.0   167.0   169.0   171.0   173.0  \\\n",
      "lat            ...                                                           \n",
      "-89.0   -2.12  ...   -2.12   -2.12   -2.12   -2.12   -2.12   -2.12   -2.12   \n",
      "-87.0   -2.12  ...   -2.12   -2.12   -2.12   -2.12   -2.12   -2.12   -2.12   \n",
      "-85.0   -2.12  ...   -2.12   -2.12   -2.12   -2.12   -2.12   -2.12   -2.12   \n",
      "-83.0   -2.12  ...   -2.12   -2.12   -2.12   -2.12   -2.12   -2.12   -2.12   \n",
      "-81.0   -2.12  ...   -2.12   -1.25   -1.25   -1.25   -1.25   -1.29   -2.12   \n",
      "\n",
      "lon     175.0   177.0   179.0  \n",
      "lat                            \n",
      "-89.0   -2.12   -2.12   -2.12  \n",
      "-87.0   -2.12   -2.12   -2.12  \n",
      "-85.0   -2.12   -2.12   -2.12  \n",
      "-83.0   -2.12   -2.12   -2.12  \n",
      "-81.0   -2.12   -2.12   -2.12  \n",
      "\n",
      "[5 rows x 180 columns]\n"
     ]
    }
   ],
   "source": [
    "globaltemps = sept.pivot_table(columns='lon', index=['lat'], values='tempanomaly')\n",
    "print(globaltemps.head())"
   ]
  },
  {
   "cell_type": "markdown",
   "metadata": {},
   "source": [
    "If your data looks like the 86x180 2-d example above, then go ahead and run this next cell.  You'll need to change the globaltemps, of course, to whatever your dataset is called.  If you chocse \"2018-11-15\" as your date, your output should look like this:\n",
    "\n",
    "![image.png](image.png)"
   ]
  },
  {
   "cell_type": "code",
   "execution_count": 9,
   "metadata": {},
   "outputs": [
    {
     "data": {
      "text/plain": [
       "<matplotlib.axes._subplots.AxesSubplot at 0x12e97cd68>"
      ]
     },
     "execution_count": 9,
     "metadata": {},
     "output_type": "execute_result"
    },
    {
     "data": {
      "image/png": "[encoded data removed]",
      "text/plain": [
       "<Figure size 432x288 with 2 Axes>"
      ]
     },
     "metadata": {
      "needs_background": "light"
     },
     "output_type": "display_data"
    }
   ],
   "source": [
    "sns.heatmap(data=globaltemps, center=0, cmap=\"bwr\")"
   ]
  },
  {
   "cell_type": "markdown",
   "metadata": {},
   "source": [
    "This plot looks vaguely like a world map, because this dataset only has values for land. "
   ]
  },
  {
   "cell_type": "markdown",
   "metadata": {},
   "source": [
    "Congrats, you're done.  I was asked for warm weather, and I think this dataset delivers."
   ]
  },
  {
   "cell_type": "code",
   "execution_count": null,
   "metadata": {},
   "outputs": [],
   "source": []
  }
 ],
 "metadata": {
  "kernelspec": {
   "display_name": "Python 3",
   "language": "python",
   "name": "python3"
  },
  "language_info": {
   "codemirror_mode": {
    "name": "ipython",
    "version": 3
   },
   "file_extension": ".py",
   "mimetype": "text/x-python",
   "name": "python",
   "nbconvert_exporter": "python",
   "pygments_lexer": "ipython3",
   "version": "3.7.1"
  }
 },
 "nbformat": 4,
 "nbformat_minor": 2
}
