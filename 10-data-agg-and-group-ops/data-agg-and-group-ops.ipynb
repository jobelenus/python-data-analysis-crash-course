{
 "cells": [
  {
   "cell_type": "markdown",
   "metadata": {},
   "source": [
    "# Chapter 10: Data Aggregation and Group Operations\n",
    "\n",
    "\n",
    "### Vroom vroom...\n",
    "\n",
    "- Let's take a look at some car performance and specification numbers.\n",
    "- This assignment will cover:\n",
    "    - FILLNA\n",
    "    - MELT\n",
    "    - PIVOT_TABLE\n",
    "    - AGGFUNC\n",
    "    - CROSSTAB"
   ]
  },
  {
   "cell_type": "code",
   "execution_count": 440,
   "metadata": {
    "scrolled": true
   },
   "outputs": [],
   "source": [
    "import pandas as pd\n",
    "import numpy as np\n",
    "\n",
    "auto_1 = pd.read_csv('data1.csv')\n",
    "# print('auto_1 -------------')\n",
    "# print(auto_1.head(2))\n",
    "\n",
    "origin_map = {1: 'USA', 2: 'Europe', 3: 'Asia'}\n",
    "# print(origin_map)\n",
    "\n",
    "auto_2 = pd.read_csv('data2.csv')\n",
    "# print('auto_2 -------------')\n",
    "# print(auto_2.head(2))\n",
    "\n",
    "auto_3 = pd.read_csv('data3.csv')\n",
    "# print('auto_3 -------------')\n",
    "# print(auto_3.head(2))"
   ]
  },
  {
   "cell_type": "markdown",
   "metadata": {},
   "source": [
    "### FILLNA\n",
    "\n",
    "Task 1: Find the average horsepower for each car cylinder size. If horsepower doesn't have a value set then please set it to the average horsepower of all the other same sized cylinder cars. Print out a table showing the data.\n",
    "\n",
    "Task 2: How many horsepower difference is there between the highest and lowest average from Task 1?\n",
    "\n",
    "Requirements: fillna is required in your solution.\n",
    "\n",
    "Use dataset: auto_1"
   ]
  },
  {
   "cell_type": "code",
   "execution_count": null,
   "metadata": {},
   "outputs": [],
   "source": []
  },
  {
   "cell_type": "markdown",
   "metadata": {},
   "source": [
    "### MELT\n",
    "\n",
    "Task 1: Use dataset auto_2 and graph only Merc cars showing performance metrics: qsec, vs, am, carb, carb, cyl\n",
    "\n",
    "Requirements: melt is required in your solution.\n",
    "\n",
    "Use dataset auto_2"
   ]
  },
  {
   "cell_type": "code",
   "execution_count": null,
   "metadata": {},
   "outputs": [],
   "source": []
  },
  {
   "cell_type": "markdown",
   "metadata": {},
   "source": [
    "### PIVOT_TABLE and AGGFUNC\n",
    "\n",
    "Task 1: Display a table showing the averages of MPG per model year broken down by cylinder and origin.\n",
    "\n",
    "Task 2: Plot a line graph showing the average MPG per year for 4 cylinder engine cars by manufacture location.\n",
    "\n",
    "Requirements: pivot_table and aggfunc is required in your solution.\n",
    "\n",
    "Use dataset auto_1 and origin_map"
   ]
  },
  {
   "cell_type": "code",
   "execution_count": null,
   "metadata": {},
   "outputs": [],
   "source": []
  },
  {
   "cell_type": "markdown",
   "metadata": {},
   "source": [
    "### CROSSTAB\n",
    "\n",
    "Task 1: Display a table showing the car totals by door count broken down by car make and vehicle size.\n",
    "\n",
    "Requirements: crossbtab is required in your solution.\n",
    "\n",
    "Use dataset auto_3"
   ]
  },
  {
   "cell_type": "code",
   "execution_count": null,
   "metadata": {},
   "outputs": [],
   "source": []
  }
 ],
 "metadata": {
  "kernelspec": {
   "display_name": "Python 3",
   "language": "python",
   "name": "python3"
  },
  "language_info": {
   "codemirror_mode": {
    "name": "ipython",
    "version": 3
   },
   "file_extension": ".py",
   "mimetype": "text/x-python",
   "name": "python",
   "nbconvert_exporter": "python",
   "pygments_lexer": "ipython3",
   "version": "3.7.2"
  }
 },
 "nbformat": 4,
 "nbformat_minor": 2
}
