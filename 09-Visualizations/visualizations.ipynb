{
 "cells": [
  {
   "cell_type": "markdown",
   "metadata": {},
   "source": [
    "# This is Jeopardy!\n",
    "    Creating Visualizations with Jeopardy Data\n",
    "\n",
    "\n",
    "### If you've never seen the show before...\n",
    "\n",
    "- Three players per game\n",
    "- Players are choosing and answering questions from a 5x6 (30 question) board\n",
    "- Each question is worth some amount of money. If they answer correctly they win the money, if they answer incorrectly they lose the money from their total\n",
    "- The game is divided into three components or \"rounds\"\n",
    "    - Round 1: Questions on the board worth \\$200-\\$1000\n",
    "    - Round 2: Questions on the board worth \\$400-\\$2000\n",
    "    - Final Jeopardy: (\"round 3\" in the data) All players with a positive score make a wager on a single question.\n",
    "- Occasionally a chosen question is revealed to be a \"Daily Double\" at which point the player can make a wager and only that player can answer the question  \n",
    "- The winner goes on to play the next game against two new players\n",
    "\n",
    "\n",
    "### About the Data\n",
    "This data is obtained from J! Archive (j-archive.com) and covers a <a href=\"https://en.wikipedia.org/wiki/Ken_Jennings#Streak_on_Jeopardy!\">very particular set of 75 games</a> between June 2, 2004 and Nov 30, 2004.\n",
    "\n",
    "Four CSV files:\n",
    " - <b>games.csv</b>\n",
    "     - gameId: Unique ID for that game used by j-archive. You can view full game data at http://www.j-archive.com/showgame.php?game_id=<gameId\\>\n",
    "     - date: Date the game was broadcast\n",
    "     \n",
    " - <b>scores.csv</b>\n",
    "     - gameId: (see above)\n",
    "     - playerId: Unique ID for that player used by j-archive. You can view full player data at http://www.j-archive.com/showplayer.php?player_id=<playerId\\>\n",
    "     - breakScore: Score at the first commercial break\n",
    "     - round1: Score after round 1\n",
    "     - round2: Score after round 2\n",
    "     - final: Score after Final Jeopardy question (round 3)\n",
    "     - coryat: An adjusted score that disregards the effect of wagering (https://j-archive.com/help.php#coryatscore). Used only for analysis purposes, is not an official game score or used in the game in any way\n",
    "     \n",
    "- <b>questions.csv</b>\n",
    "    - gameId: (see above)\n",
    "    - round: There are two rounds in Jeopardy. Final Jeopardy question is denoted as round '3'\n",
    "    - pickorder: The order the questions were chosen by players during that game. Final Jeopardy question has value '0'\n",
    "    - amount: Amount the question was worth. In the case of Daily Double questions (where a single player wagers an amount of their choosing) this amount is set to what they wagered. In Final Jeopardy the amount is always 0. Players can make different wagers here, so look up their score and do some math if you need this information.\n",
    "\n",
    "- <b>answers.csv</b>\n",
    "    - questionId: Unique ID from the questions file\n",
    "    - playerId: (see above)\n",
    "    - correct: Boolean whether or not the player answered correctly. \n",
    "    \n",
    "    \n",
    "### When working through these:\n",
    "\n",
    "- Use either Matplotlib or Seaborn. Personally, I prefer Seaborn\n",
    "- If time allows, try to make it pretty\n",
    "    - Label the axes\n",
    "    - Add a title\n",
    "    - Add a legend\n",
    "    - Make sure the values in the axis are properly formatted\n",
    "- If you can think of a more interesting visualization than the one I suggested, go for it!\n"
   ]
  },
  {
   "cell_type": "code",
   "execution_count": null,
   "metadata": {},
   "outputs": [],
   "source": [
    "import pandas as pd\n",
    "import seaborn as sns\n",
    "import matplotlib as plt"
   ]
  },
  {
   "cell_type": "markdown",
   "metadata": {},
   "source": [
    "## Read and process the data"
   ]
  },
  {
   "cell_type": "code",
   "execution_count": null,
   "metadata": {},
   "outputs": [],
   "source": [
    "games = pd.read_csv('games.csv')\n",
    "games.set_index('id', inplace=True)\n",
    "games.date = pd.to_datetime(games.date)\n",
    "games.sort_values(by='date', inplace=True)\n",
    "games.head(2)"
   ]
  },
  {
   "cell_type": "code",
   "execution_count": null,
   "metadata": {},
   "outputs": [],
   "source": [
    "scores = pd.read_csv('scores.csv')\n",
    "scores.head(2)"
   ]
  },
  {
   "cell_type": "code",
   "execution_count": null,
   "metadata": {},
   "outputs": [],
   "source": [
    "questions = pd.read_csv('questions.csv')\n",
    "questions.set_index('id', inplace=True)\n",
    "questions.head(2)"
   ]
  },
  {
   "cell_type": "code",
   "execution_count": null,
   "metadata": {},
   "outputs": [],
   "source": [
    "answers = pd.read_csv('answers.csv')\n",
    "answers.head(2)"
   ]
  },
  {
   "cell_type": "markdown",
   "metadata": {},
   "source": [
    "### Make Ranked Data"
   ]
  },
  {
   "cell_type": "code",
   "execution_count": null,
   "metadata": {},
   "outputs": [],
   "source": [
    "def first(aList):\n",
    "    return aList.iloc[0]\n",
    "\n",
    "def second(aList):\n",
    "    if len(aList) > 1:\n",
    "        return aList.iloc[1]\n",
    "\n",
    "def third(aList):\n",
    "    if len(aList) > 2:\n",
    "        return aList.iloc[2]\n",
    "    \n",
    "scores.sort_values(by=['gameId', 'final'], ascending=False, inplace=True)\n",
    "ranked_scores = scores.groupby('gameId').agg({\n",
    "    'breakScore': [first, second, third],\n",
    "    'round1': [first, second, third],\n",
    "    'round2': [first, second, third],\n",
    "    'final': [first, second, third],\n",
    "    'coryat': [first, second, third]\n",
    "})\n",
    "ranked_scores.head(2)"
   ]
  },
  {
   "cell_type": "markdown",
   "metadata": {},
   "source": [
    "### Add cumulative values"
   ]
  },
  {
   "cell_type": "code",
   "execution_count": null,
   "metadata": {},
   "outputs": [],
   "source": [
    "answers_with_scores = answers.merge(questions, how='left', left_on='questionId', right_index=True)\n",
    "answers_with_scores['score_impact'] = answers_with_scores.apply(lambda r: r['amount'] if r['correct'] else -r['amount'], axis=1)\n",
    "\n",
    "answers_with_scores['score_cumulative'] = answers_with_scores[\n",
    "    ['gameId', 'playerId', 'pickorder','round', 'score_impact']].sort_values(by=['round','pickorder']).groupby(\n",
    "    ['gameId', 'playerId']).cumsum()['score_impact']\n",
    "answers_with_scores.head()\n"
   ]
  },
  {
   "cell_type": "markdown",
   "metadata": {},
   "source": [
    "## 1. Line plot\n",
    "\n",
    "Create a line plot showing the 1st, 2nd, and 3rd place scores for each game over time (days on the x-axis). Use any score value column you want.\n"
   ]
  },
  {
   "cell_type": "code",
   "execution_count": null,
   "metadata": {},
   "outputs": [],
   "source": []
  },
  {
   "cell_type": "markdown",
   "metadata": {},
   "source": [
    "## 2. Scatterplot\n",
    "\n",
    "Create a scatterplot with a dot for each non-Final Jeopardy (round 3) answer across all games and players\n",
    "\n",
    "<b>x-axis:</b> Question order in game (round, pickorder)<br>\n",
    "<b>y-axis:</b> Score (after question was answered) of the player answering the question<br>\n",
    "<b>color:</b> Whether the question was right or wrong."
   ]
  },
  {
   "cell_type": "code",
   "execution_count": null,
   "metadata": {},
   "outputs": [],
   "source": []
  },
  {
   "cell_type": "markdown",
   "metadata": {},
   "source": [
    "### 2.2 Splitting up the scatterplot\n",
    "\n",
    "Design a visualization that differentiates Ken's answers from the other players' in some way. This could be a different shape, different color, two plots, etc."
   ]
  },
  {
   "cell_type": "code",
   "execution_count": null,
   "metadata": {},
   "outputs": [],
   "source": []
  },
  {
   "cell_type": "markdown",
   "metadata": {},
   "source": [
    "### 2.3 Add a line\n",
    "\n",
    "Add a line plot or line plots showing the average values of your scatterplot across the x-axis. You may want to show lines for only Ken's scores, only third/second place scores, only correct or incorrect answers, etc.\n"
   ]
  },
  {
   "cell_type": "code",
   "execution_count": null,
   "metadata": {},
   "outputs": [],
   "source": []
  },
  {
   "cell_type": "markdown",
   "metadata": {},
   "source": [
    "## 3. Bar plot\n",
    "\n",
    "Create a stacked bar plot showing mean scores of first, second, and third place contestants at various points in the game. The goal is to communicate how champions (and the less champion-ish) tend to build up their score over the course of play. Strong start? Major gains in the second round?\n",
    "\n",
    "You will find that third place tends to lose at Final Jeopardy more often than they win, leaving you with a negative value for the difference between their round2 and final score. Choose how best to represent this.\n"
   ]
  },
  {
   "cell_type": "code",
   "execution_count": null,
   "metadata": {},
   "outputs": [],
   "source": []
  },
  {
   "cell_type": "markdown",
   "metadata": {},
   "source": [
    "## 4. Histogram\n",
    "Create a plot with four subplots. In each subplot draw two overlapping histograms. One histogram showing the distribution of Ken Jenning's scores and another one showing the distribution of all other player's scores at the following different points in the game:\n",
    "\n",
    "- End of Round 1\n",
    "- End of Round 2\n",
    "- Final score\n",
    "- Coryat-adjusted score\n",
    "\n",
    "Note: You should have half the data in the \"Ken\" histograms as in the \"non-Ken\" histograms\n",
    "Also, do not use the \"first, second, third\" place scores for this -- Ken is not guaranteed to be in first place"
   ]
  },
  {
   "cell_type": "code",
   "execution_count": null,
   "metadata": {},
   "outputs": [],
   "source": []
  }
 ],
 "metadata": {
  "kernelspec": {
   "display_name": "Python 3",
   "language": "python",
   "name": "python3"
  },
  "language_info": {
   "codemirror_mode": {
    "name": "ipython",
    "version": 3
   },
   "file_extension": ".py",
   "mimetype": "text/x-python",
   "name": "python",
   "nbconvert_exporter": "python",
   "pygments_lexer": "ipython3",
   "version": "3.7.2"
  }
 },
 "nbformat": 4,
 "nbformat_minor": 2
}
